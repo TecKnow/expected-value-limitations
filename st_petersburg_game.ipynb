{
 "cells": [
  {
   "cell_type": "code",
   "execution_count": null,
   "metadata": {},
   "outputs": [],
   "source": [
    "import numpy as np\n",
    "import pandas as pd\n",
    "import matplotlib.pyplot as plt"
   ]
  },
  {
   "cell_type": "code",
   "execution_count": null,
   "metadata": {},
   "outputs": [],
   "source": [
    "rng = np.random.default_rng()"
   ]
  },
  {
   "cell_type": "code",
   "execution_count": null,
   "metadata": {},
   "outputs": [],
   "source": [
    "player_count = 100_000_000"
   ]
  },
  {
   "cell_type": "code",
   "execution_count": null,
   "metadata": {},
   "outputs": [],
   "source": [
    "players = pd.DataFrame(rng.choice([0,1], size=(1, player_count)))\n",
    "while (live_players := players.iloc[-1] == 1).any():\n",
    "    new_row_index = players.shape[0]\n",
    "    players.loc[new_row_index] = np.zeros_like(players.iloc[-1])\n",
    "    players.loc[new_row_index, live_players] = rng.choice([0,1], size=(1, live_players.sum()))\n",
    "players"
   ]
  },
  {
   "cell_type": "code",
   "execution_count": null,
   "metadata": {},
   "outputs": [],
   "source": [
    "winning_rounds = players.sum() + 1\n",
    "player_winnings = winning_rounds.rpow(2)\n",
    "player_winnings_value_counts = player_winnings.value_counts(sort=False).sort_index().rename_axis(\"winnings\")\n",
    "player_winnings_value_counts.plot.bar()"
   ]
  },
  {
   "cell_type": "code",
   "execution_count": null,
   "metadata": {},
   "outputs": [],
   "source": [
    "mul_table =player_winnings_value_counts.reset_index()\n",
    "mul_table = mul_table.rename(columns={0: 'count'})\n",
    "mul_table.loc[:, \"total\"] = mul_table.loc[:, \"winnings\"] * mul_table.loc[:, \"count\"]\n",
    "grand_total = mul_table.loc[:, \"total\"].sum()\n",
    "grand_total / player_count\n",
    "player_winnings.mean()"
   ]
  }
 ],
 "metadata": {
  "kernelspec": {
   "display_name": "Python 3",
   "language": "python",
   "name": "python3"
  },
  "language_info": {
   "codemirror_mode": {
    "name": "ipython",
    "version": 3
   },
   "file_extension": ".py",
   "mimetype": "text/x-python",
   "name": "python",
   "nbconvert_exporter": "python",
   "pygments_lexer": "ipython3",
   "version": "3.11.0"
  },
  "orig_nbformat": 4,
  "vscode": {
   "interpreter": {
    "hash": "de6e453dc06a87eccf6eff33a2bd77cda58cde8f929c998ffeca58b02a287278"
   }
  }
 },
 "nbformat": 4,
 "nbformat_minor": 2
}
