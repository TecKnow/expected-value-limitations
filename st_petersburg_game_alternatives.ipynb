{
 "cells": [
  {
   "attachments": {},
   "cell_type": "markdown",
   "metadata": {},
   "source": [
    "# St. Petersburg Game Alternatives"
   ]
  },
  {
   "attachments": {},
   "cell_type": "markdown",
   "metadata": {},
   "source": [
    "Due to the counterintuitive nature of the St. Petersburg paradox larger examples are more convincing.  But they also take longer to run.  I want to compare different ways of simulating the game to see what methods are the fastest.\n"
   ]
  },
  {
   "cell_type": "code",
   "execution_count": 1,
   "metadata": {},
   "outputs": [],
   "source": [
    "import numpy as np\n",
    "import pandas as pd\n",
    "import matplotlib.pyplot as plt"
   ]
  },
  {
   "cell_type": "code",
   "execution_count": 2,
   "metadata": {},
   "outputs": [],
   "source": [
    "rng = np.random.default_rng()"
   ]
  },
  {
   "cell_type": "code",
   "execution_count": 3,
   "metadata": {},
   "outputs": [],
   "source": [
    "player_count = 100_000_000"
   ]
  },
  {
   "cell_type": "code",
   "execution_count": 129,
   "metadata": {},
   "outputs": [],
   "source": [
    "def pure_python(player_count: int = 10_000_000) -> list[int]:\n",
    "    res = list()\n",
    "    for _ in range(player_count):\n",
    "        payout_round = 1\n",
    "        while rng.choice(2) == 1:\n",
    "            payout_round += 1\n",
    "        res.append(payout_round)\n",
    "    return res"
   ]
  },
  {
   "cell_type": "code",
   "execution_count": 4,
   "metadata": {},
   "outputs": [],
   "source": [
    "def pandas_naive(player_count: int = 10_000_000) -> pd.DataFrame:\n",
    "    players = pd.DataFrame(rng.choice([0,1], size=(1, player_count)))\n",
    "    while (live_players := players.iloc[-1] == 1).any():\n",
    "        new_row_index = players.shape[0]\n",
    "        new_row = rng.choice([0,1], size = (1, player_count))\n",
    "        players.loc[new_row_index, :] = new_row\n",
    "        players.loc[new_row_index, ~live_players] = 0\n",
    "    return players"
   ]
  },
  {
   "cell_type": "code",
   "execution_count": 5,
   "metadata": {},
   "outputs": [],
   "source": [
    "def pandas_less_rng(player_count: int  = 10_000_000):\n",
    "    players = pd.DataFrame(rng.choice([0,1], size=(1, player_count)))\n",
    "    while (live_players := players.iloc[-1] == 1).any():\n",
    "        new_row_index = players.shape[0]\n",
    "        players.loc[new_row_index, :] = np.zeros_like(players.iloc[-1])\n",
    "        players.loc[new_row_index, live_players] = rng.choice([0,1], size=(1, live_players.sum()))\n",
    "    return players"
   ]
  },
  {
   "cell_type": "code",
   "execution_count": 122,
   "metadata": {},
   "outputs": [],
   "source": [
    "def pandas_reducing(player_count: int = 10_000_000) -> pd.DataFrame:\n",
    "    rounds: list[pd.Series] = list()\n",
    "    rounds.append(pd.Series(rng.choice(2, size=player_count)))\n",
    "    while not (live_players :=rounds[-1].loc[rounds[-1] == 1].index).empty:\n",
    "        next_round = pd.Series(rng.choice(2, size=live_players.size), index=live_players)\n",
    "        rounds.append(next_round)\n",
    "    game_history = pd.concat(rounds, axis=\"columns\").rename_axis(\"player\").rename_axis(\"round\", axis=\"columns\")\n",
    "    return game_history\n",
    "\n"
   ]
  },
  {
   "cell_type": "code",
   "execution_count": 130,
   "metadata": {},
   "outputs": [
    {
     "name": "stdout",
     "output_type": "stream",
     "text": [
      "4min 30s ± 3.84 s per loop (mean ± std. dev. of 7 runs, 1 loop each)\n"
     ]
    }
   ],
   "source": [
    "%%timeit\n",
    "\n",
    "pure_python()"
   ]
  },
  {
   "cell_type": "code",
   "execution_count": 6,
   "metadata": {},
   "outputs": [
    {
     "name": "stdout",
     "output_type": "stream",
     "text": [
      "21.1 s ± 4.25 s per loop (mean ± std. dev. of 7 runs, 1 loop each)\n"
     ]
    }
   ],
   "source": [
    "%%timeit\n",
    "\n",
    "pandas_naive()"
   ]
  },
  {
   "cell_type": "code",
   "execution_count": 7,
   "metadata": {},
   "outputs": [
    {
     "name": "stdout",
     "output_type": "stream",
     "text": [
      "4min ± 20.1 s per loop (mean ± std. dev. of 7 runs, 1 loop each)\n"
     ]
    }
   ],
   "source": [
    "%%timeit\n",
    "\n",
    "pandas_naive(player_count)"
   ]
  },
  {
   "cell_type": "code",
   "execution_count": 8,
   "metadata": {},
   "outputs": [
    {
     "name": "stdout",
     "output_type": "stream",
     "text": [
      "14.8 s ± 1.35 s per loop (mean ± std. dev. of 7 runs, 1 loop each)\n"
     ]
    }
   ],
   "source": [
    "%%timeit\n",
    "\n",
    "pandas_less_rng()"
   ]
  },
  {
   "cell_type": "code",
   "execution_count": 9,
   "metadata": {},
   "outputs": [
    {
     "name": "stdout",
     "output_type": "stream",
     "text": [
      "3min 16s ± 25.1 s per loop (mean ± std. dev. of 7 runs, 1 loop each)\n"
     ]
    }
   ],
   "source": [
    "%%timeit\n",
    "\n",
    "pandas_less_rng(player_count)"
   ]
  },
  {
   "cell_type": "code",
   "execution_count": 123,
   "metadata": {},
   "outputs": [
    {
     "name": "stdout",
     "output_type": "stream",
     "text": [
      "11.5 s ± 773 ms per loop (mean ± std. dev. of 7 runs, 1 loop each)\n"
     ]
    }
   ],
   "source": [
    "%%timeit\n",
    "\n",
    "pandas_reducing()"
   ]
  },
  {
   "cell_type": "code",
   "execution_count": 124,
   "metadata": {},
   "outputs": [
    {
     "name": "stdout",
     "output_type": "stream",
     "text": [
      "2min 59s ± 8.85 s per loop (mean ± std. dev. of 7 runs, 1 loop each)\n"
     ]
    }
   ],
   "source": [
    "%%timeit\n",
    "\n",
    "pandas_reducing(player_count)"
   ]
  }
 ],
 "metadata": {
  "kernelspec": {
   "display_name": "Python 3",
   "language": "python",
   "name": "python3"
  },
  "language_info": {
   "codemirror_mode": {
    "name": "ipython",
    "version": 3
   },
   "file_extension": ".py",
   "mimetype": "text/x-python",
   "name": "python",
   "nbconvert_exporter": "python",
   "pygments_lexer": "ipython3",
   "version": "3.11.0"
  },
  "orig_nbformat": 4,
  "vscode": {
   "interpreter": {
    "hash": "de6e453dc06a87eccf6eff33a2bd77cda58cde8f929c998ffeca58b02a287278"
   }
  }
 },
 "nbformat": 4,
 "nbformat_minor": 2
}
