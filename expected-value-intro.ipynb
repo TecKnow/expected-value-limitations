{
 "cells": [
  {
   "attachments": {},
   "cell_type": "markdown",
   "metadata": {},
   "source": [
    "# How expected value can mislead you"
   ]
  },
  {
   "attachments": {},
   "cell_type": "markdown",
   "metadata": {},
   "source": [
    "## What is expected value?"
   ]
  },
  {
   "attachments": {},
   "cell_type": "markdown",
   "metadata": {},
   "source": [
    "**Expected Value** is just a way of applying the concept of a weighted average to a random event.  You might use a weighted average to find your final score in a class when the homework is worth 40% of your grade and exams are worth 60%.  In the same way, you might use a weighted average to find the expected value of an investment or how much you expect to win or lose while playing a game."
   ]
  },
  {
   "attachments": {},
   "cell_type": "markdown",
   "metadata": {},
   "source": [
    "## Expected value examples"
   ]
  },
  {
   "attachments": {},
   "cell_type": "markdown",
   "metadata": {},
   "source": [
    "### A standard six-sided die"
   ]
  },
  {
   "attachments": {},
   "cell_type": "markdown",
   "metadata": {},
   "source": [
    "#### Calculating expected value"
   ]
  },
  {
   "attachments": {},
   "cell_type": "markdown",
   "metadata": {},
   "source": [
    "If I wanted to work out the expected value of rolling a standard six-sided die (1D6), I just multiply each roll by how likely it is, and add them up."
   ]
  },
  {
   "attachments": {},
   "cell_type": "markdown",
   "metadata": {},
   "source": [
    "$$\n",
    "\\frac{1}{6} \\times 1 + \\frac{1}{6} \\times 2 + \\frac{1}{6} \\times 3 + \\frac{1}{6} \\times 4 + \\frac{1}{6} \\times 5 + \\frac{1}{6} \\times 6\n",
    "$$\n",
    "$$\n",
    "\\frac{1}{6} \\times \\left( 1+2+3+4+5+6 \\right)\n",
    "$$\n",
    "$$\n",
    "\\frac{1}{6} \\times 21\n",
    "$$\n",
    "$$\n",
    "\\frac{7}{2}\n",
    "$$\n",
    "$$\n",
    "3.5\n",
    "$$"
   ]
  },
  {
   "attachments": {},
   "cell_type": "markdown",
   "metadata": {},
   "source": [
    "#### Verifying expected value"
   ]
  },
  {
   "attachments": {},
   "cell_type": "markdown",
   "metadata": {},
   "source": [
    "Can I verify that the average value of the die is what I calculated?  Sure.  With the help of my robot friends, it's no trouble at all to roll even a million six-sided dice and find the average."
   ]
  },
  {
   "cell_type": "code",
   "execution_count": 153,
   "metadata": {},
   "outputs": [],
   "source": [
    "import pandas as pd\n",
    "import numpy as np\n",
    "import matplotlib.pyplot as plt"
   ]
  },
  {
   "cell_type": "code",
   "execution_count": 154,
   "metadata": {},
   "outputs": [],
   "source": [
    "from numpy.random import default_rng\n",
    "rng = default_rng()"
   ]
  },
  {
   "cell_type": "code",
   "execution_count": 155,
   "metadata": {},
   "outputs": [],
   "source": [
    "roll_count = 1_000_000"
   ]
  },
  {
   "cell_type": "code",
   "execution_count": 156,
   "metadata": {},
   "outputs": [],
   "source": [
    "die_size = 6"
   ]
  },
  {
   "cell_type": "code",
   "execution_count": 157,
   "metadata": {},
   "outputs": [],
   "source": [
    "die_roll_df = pd.DataFrame(rng.integers(1, die_size, size=roll_count, endpoint=True), index=np.arange(1, roll_count+1), columns=[\"value\"])\n",
    "die_roll_df.index.name=\"roll\""
   ]
  },
  {
   "cell_type": "code",
   "execution_count": 158,
   "metadata": {},
   "outputs": [],
   "source": [
    "\n",
    "die_roll_counts_df = die_roll_df[\"value\"].value_counts(sort=False)"
   ]
  },
  {
   "cell_type": "code",
   "execution_count": 172,
   "metadata": {},
   "outputs": [
    {
     "data": {
      "image/png": "[encoded data removed]",
      "text/plain": [
       "<Figure size 640x480 with 1 Axes>"
      ]
     },
     "metadata": {},
     "output_type": "display_data"
    }
   ],
   "source": [
    "\n",
    "fig, ax = plt.subplots()\n",
    "ax.bar(die_roll_counts_df.index.astype(str), die_roll_counts_df)\n",
    "ax.set_xlabel(\"Roll\")\n",
    "ax.set_ylabel(\"Count\")\n",
    "ax.set_title(f\"Rolls for {roll_count:n} D{die_size:n}\")\n",
    "plt.show()"
   ]
  },
  {
   "cell_type": "code",
   "execution_count": 160,
   "metadata": {},
   "outputs": [
    {
     "data": {
      "text/plain": [
       "'The average of 1000000 rolls of a d6 is 3.50112'"
      ]
     },
     "metadata": {},
     "output_type": "display_data"
    }
   ],
   "source": [
    "die_roll_mean = die_roll_df['value'].mean()\n",
    "display(f\"The average of {roll_count:n} rolls of a d{die_size:n} is {die_roll_mean:g}\")"
   ]
  },
  {
   "attachments": {},
   "cell_type": "markdown",
   "metadata": {},
   "source": [
    "### A non-standard 6 sided die"
   ]
  },
  {
   "attachments": {},
   "cell_type": "markdown",
   "metadata": {},
   "source": [
    "A standard die is a pretty easy case.  Each value is equally likely so it's not even really necessary to do the math the long way.  Does this apporach work even for non-standard dice?  Let's try it.\n",
    "\n",
    "Imagine I took at six sided die and re-labeled the faces.  I'll put a 1 on the first three faces, a 2 on the faces that originally said 4 and 5, and a 3 on the face that said 6.  How do I calculate the expected value of this new, weighted die, and do observations agree with calculations?\n"
   ]
  },
  {
   "attachments": {},
   "cell_type": "markdown",
   "metadata": {},
   "source": [
    "#### Calculating expected value"
   ]
  },
  {
   "attachments": {},
   "cell_type": "markdown",
   "metadata": {},
   "source": [
    "$$\n",
    "\\frac{3}{6} \\times 1 + \\frac{2}{6} \\times 2 + \\frac{1}{6} \\times 3\n",
    "$$\n",
    "$$\n",
    "\\frac{3}{6} + \\frac{4}{6} + \\frac{3}{6}\n",
    "$$\n",
    "$$\n",
    "\\frac{{10}}{6}\n",
    "$$\n",
    "$$\n",
    "\\frac{5}{3}\n",
    "$$\n",
    "$$\n",
    "1.\\overline 6 \n",
    "$$\n"
   ]
  },
  {
   "attachments": {},
   "cell_type": "markdown",
   "metadata": {},
   "source": [
    "#### Verifying expected value"
   ]
  },
  {
   "cell_type": "code",
   "execution_count": 161,
   "metadata": {},
   "outputs": [],
   "source": [
    "die_faces = np.array([1,1,1,2,2,3])"
   ]
  },
  {
   "cell_type": "code",
   "execution_count": 162,
   "metadata": {},
   "outputs": [],
   "source": [
    "weighted_rolls_df =pd.DataFrame(rng.choice(die_faces, size=roll_count), index=np.arange(1, roll_count+1), columns=[\"value\"])\n",
    "weighted_rolls_df.columns.name=\"roll\""
   ]
  },
  {
   "cell_type": "code",
   "execution_count": 166,
   "metadata": {},
   "outputs": [
    {
     "data": {
      "text/plain": [
       "Int64Index([1, 2, 3], dtype='int64')"
      ]
     },
     "execution_count": 166,
     "metadata": {},
     "output_type": "execute_result"
    }
   ],
   "source": [
    "weighted_roll_counts_df = weighted_rolls_df[\"value\"].value_counts(sort=False)\n",
    "weighted_roll_counts_df.index"
   ]
  },
  {
   "cell_type": "code",
   "execution_count": 176,
   "metadata": {},
   "outputs": [
    {
     "data": {
      "image/png": "[encoded data removed]",
      "text/plain": [
       "<Figure size 640x480 with 1 Axes>"
      ]
     },
     "metadata": {},
     "output_type": "display_data"
    }
   ],
   "source": [
    "fig, ax = plt.subplots()\n",
    "ax.bar(weighted_roll_counts_df.index.astype(str), weighted_roll_counts_df.array)\n",
    "ax.set_xlabel(\"Roll\")\n",
    "ax.set_ylabel(\"Count\")\n",
    "ax.set_title(f\"{roll_count:n} choices from {die_faces.tolist()}\")\n",
    "plt.show()"
   ]
  },
  {
   "cell_type": "code",
   "execution_count": 178,
   "metadata": {},
   "outputs": [
    {
     "data": {
      "text/plain": [
       "'The average of 1000000 choices from [1, 1, 1, 2, 2, 3] is 1.66583'"
      ]
     },
     "metadata": {},
     "output_type": "display_data"
    }
   ],
   "source": [
    "weighted_roll_mean = weighted_rolls_df['value'].mean()\n",
    "display(f\"The average of {roll_count:n} choices from {die_faces.tolist()} is {weighted_roll_mean:g}\")"
   ]
  }
 ],
 "metadata": {
  "kernelspec": {
   "display_name": "venv",
   "language": "python",
   "name": "python3"
  },
  "language_info": {
   "codemirror_mode": {
    "name": "ipython",
    "version": 3
   },
   "file_extension": ".py",
   "mimetype": "text/x-python",
   "name": "python",
   "nbconvert_exporter": "python",
   "pygments_lexer": "ipython3",
   "version": "3.11.0 (main, Oct 24 2022, 18:26:48) [MSC v.1933 64 bit (AMD64)]"
  },
  "orig_nbformat": 4,
  "vscode": {
   "interpreter": {
    "hash": "312f457a76b571ef0a7a8ee4e5ed4b097adce366c668a6149ff17fb14fbc82f3"
   }
  }
 },
 "nbformat": 4,
 "nbformat_minor": 2
}
