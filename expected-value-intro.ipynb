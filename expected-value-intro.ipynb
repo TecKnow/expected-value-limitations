{
 "cells": [
  {
   "attachments": {},
   "cell_type": "markdown",
   "metadata": {},
   "source": [
    "# Expected Value\n"
   ]
  },
  {
   "attachments": {},
   "cell_type": "markdown",
   "metadata": {},
   "source": [
    "Sam Bankman-Fried is quoted in interviews as saying that he wants to be \"risk neutral,\" or have a very low level of risk-aversion, therefore he only cares about maximizing the expected value of his investments. What exactly do those things mean? What is an expected value, and what toes it have to do with risk?\n"
   ]
  },
  {
   "attachments": {},
   "cell_type": "markdown",
   "metadata": {},
   "source": [
    "## What is expected value?\n"
   ]
  },
  {
   "attachments": {},
   "cell_type": "markdown",
   "metadata": {},
   "source": [
    "**Expected Value** is just a way of applying the concept of a weighted average to a random event. If you've ever had a class where your final grade was 40% homework and 60% tests, or anything like that, that's a weighted average.  When we're using a weighted average to make predictions, we highlight that by calling it an expected value.\n",
    "\n",
    "It's important to remember that in practice, the expected value is just the average value that you'd expect to get if you were able to try something many, many times.\n",
    "\n",
    "So, is there a way to calculate an expected value?  Sure.  Let's consider a few examples now.\n"
   ]
  },
  {
   "attachments": {},
   "cell_type": "markdown",
   "metadata": {},
   "source": [
    "## Expected value examples\n"
   ]
  },
  {
   "attachments": {},
   "cell_type": "markdown",
   "metadata": {},
   "source": [
    "### A standard six-sided die\n"
   ]
  },
  {
   "attachments": {},
   "cell_type": "markdown",
   "metadata": {},
   "source": [
    "#### Calculating expected value\n"
   ]
  },
  {
   "attachments": {},
   "cell_type": "markdown",
   "metadata": {},
   "source": [
    "If I wanted to work out the expected value of rolling a standard six-sided die (1D6), I just multiply each roll by how likely it is, and add them up.\n"
   ]
  },
  {
   "attachments": {},
   "cell_type": "markdown",
   "metadata": {},
   "source": [
    "$$\n",
    "\\frac{1}{6} \\times 1 + \\frac{1}{6} \\times 2 + \\frac{1}{6} \\times 3 + \\frac{1}{6} \\times 4 + \\frac{1}{6} \\times 5 + \\frac{1}{6} \\times 6\n",
    "$$\n",
    "\n",
    "$$\n",
    "\\frac{1}{6} \\times \\left( 1+2+3+4+5+6 \\right)\n",
    "$$\n",
    "\n",
    "$$\n",
    "\\frac{1}{6} \\times 21\n",
    "$$\n",
    "\n",
    "$$\n",
    "\\frac{7}{2}\n",
    "$$\n",
    "\n",
    "$$\n",
    "3.5\n",
    "$$\n"
   ]
  },
  {
   "attachments": {},
   "cell_type": "markdown",
   "metadata": {},
   "source": [
    "#### Verifying expected value\n"
   ]
  },
  {
   "attachments": {},
   "cell_type": "markdown",
   "metadata": {},
   "source": [
    "Can I verify that the average value of the die is what I calculated?  With the help of my robot friends it's no trouble at all to roll even a million six-sided dice and find the average. Let's do that."
   ]
  },
  {
   "attachments": {},
   "cell_type": "markdown",
   "metadata": {},
   "source": [
    "The block of code below this one imports some libraries used to do math with Python called numpy and pandas, and then a graphing library called matplotlib."
   ]
  },
  {
   "cell_type": "code",
   "execution_count": 146,
   "metadata": {},
   "outputs": [],
   "source": [
    "import pandas as pd\n",
    "import numpy as np\n",
    "import matplotlib.pyplot as plt"
   ]
  },
  {
   "attachments": {},
   "cell_type": "markdown",
   "metadata": {},
   "source": [
    "This next block of code sets up a numpy tool for working with random numbers. This is what will roll the dice for us.\n"
   ]
  },
  {
   "cell_type": "code",
   "execution_count": 147,
   "metadata": {},
   "outputs": [],
   "source": [
    "from numpy.random import default_rng\n",
    "rng = default_rng(seed=1676329117)\n",
    "viewer_rng = default_rng()"
   ]
  },
  {
   "attachments": {},
   "cell_type": "markdown",
   "metadata": {},
   "source": [
    "There are two random number generators above.  One of them has a fixed seed.  There's nothing special about the number, it's just a timestamp from my computer's clock while I was working on this.  I will use this one in my examples, because it means that I can know the results will be the same each time, and that you're seeing as you read this what I see as I write this.  The second random number generator will give different results every time, and I'll use that when I invite you to try things yourself."
   ]
  },
  {
   "attachments": {},
   "cell_type": "markdown",
   "metadata": {},
   "source": [
    "This code sets a variable for how many times we want to roll the die.\n"
   ]
  },
  {
   "cell_type": "code",
   "execution_count": 148,
   "metadata": {},
   "outputs": [],
   "source": [
    "roll_count = 1_000_000"
   ]
  },
  {
   "attachments": {},
   "cell_type": "markdown",
   "metadata": {},
   "source": [
    "The cell below sets the number of sides that the die should have. That means it's easy to try this with all the polyhedral dice used in tabletop roleplaying games like Dungeons & Dragons or Pathfinder. We could also simulate dice with a number of sides that would be difficult to manufacture.\n"
   ]
  },
  {
   "cell_type": "code",
   "execution_count": 149,
   "metadata": {},
   "outputs": [],
   "source": [
    "die_size = 6"
   ]
  },
  {
   "attachments": {},
   "cell_type": "markdown",
   "metadata": {},
   "source": [
    "The following cell actually rolls the virtual dice for us. More specifically, it creates a pandas array containing the results of the rolls. It displays a sample from the beginning and end of the list.\n"
   ]
  },
  {
   "cell_type": "code",
   "execution_count": 150,
   "metadata": {},
   "outputs": [
    {
     "data": {
      "text/html": [
       "<div>\n",
       "<style scoped>\n",
       "    .dataframe tbody tr th:only-of-type {\n",
       "        vertical-align: middle;\n",
       "    }\n",
       "\n",
       "    .dataframe tbody tr th {\n",
       "        vertical-align: top;\n",
       "    }\n",
       "\n",
       "    .dataframe thead th {\n",
       "        text-align: right;\n",
       "    }\n",
       "</style>\n",
       "<table border=\"1\" class=\"dataframe\">\n",
       "  <thead>\n",
       "    <tr style=\"text-align: right;\">\n",
       "      <th></th>\n",
       "      <th>value</th>\n",
       "    </tr>\n",
       "    <tr>\n",
       "      <th>roll</th>\n",
       "      <th></th>\n",
       "    </tr>\n",
       "  </thead>\n",
       "  <tbody>\n",
       "    <tr>\n",
       "      <th>1</th>\n",
       "      <td>6</td>\n",
       "    </tr>\n",
       "    <tr>\n",
       "      <th>2</th>\n",
       "      <td>5</td>\n",
       "    </tr>\n",
       "    <tr>\n",
       "      <th>3</th>\n",
       "      <td>2</td>\n",
       "    </tr>\n",
       "    <tr>\n",
       "      <th>4</th>\n",
       "      <td>1</td>\n",
       "    </tr>\n",
       "    <tr>\n",
       "      <th>5</th>\n",
       "      <td>1</td>\n",
       "    </tr>\n",
       "    <tr>\n",
       "      <th>...</th>\n",
       "      <td>...</td>\n",
       "    </tr>\n",
       "    <tr>\n",
       "      <th>999996</th>\n",
       "      <td>5</td>\n",
       "    </tr>\n",
       "    <tr>\n",
       "      <th>999997</th>\n",
       "      <td>4</td>\n",
       "    </tr>\n",
       "    <tr>\n",
       "      <th>999998</th>\n",
       "      <td>2</td>\n",
       "    </tr>\n",
       "    <tr>\n",
       "      <th>999999</th>\n",
       "      <td>4</td>\n",
       "    </tr>\n",
       "    <tr>\n",
       "      <th>1000000</th>\n",
       "      <td>6</td>\n",
       "    </tr>\n",
       "  </tbody>\n",
       "</table>\n",
       "<p>1000000 rows × 1 columns</p>\n",
       "</div>"
      ],
      "text/plain": [
       "         value\n",
       "roll          \n",
       "1            6\n",
       "2            5\n",
       "3            2\n",
       "4            1\n",
       "5            1\n",
       "...        ...\n",
       "999996       5\n",
       "999997       4\n",
       "999998       2\n",
       "999999       4\n",
       "1000000      6\n",
       "\n",
       "[1000000 rows x 1 columns]"
      ]
     },
     "metadata": {},
     "output_type": "display_data"
    }
   ],
   "source": [
    "die_roll_df = pd.DataFrame(rng.integers(1, die_size, size=roll_count, endpoint=True), index=np.arange(1, roll_count+1), columns=[\"value\"])\n",
    "die_roll_df.index.name=\"roll\"\n",
    "\n",
    "display(die_roll_df)"
   ]
  },
  {
   "attachments": {},
   "cell_type": "markdown",
   "metadata": {},
   "source": [
    "The list of rolls is too long to view manually, and it'd be hard to tell just by looking if the virtual die was really fair. Let's prepare some summary statistics to double check. The following block of code makes a table that shows how often each value was rolled, and what proportion of the total rolls were that value.\n"
   ]
  },
  {
   "cell_type": "code",
   "execution_count": 151,
   "metadata": {},
   "outputs": [
    {
     "data": {
      "text/html": [
       "<div>\n",
       "<style scoped>\n",
       "    .dataframe tbody tr th:only-of-type {\n",
       "        vertical-align: middle;\n",
       "    }\n",
       "\n",
       "    .dataframe tbody tr th {\n",
       "        vertical-align: top;\n",
       "    }\n",
       "\n",
       "    .dataframe thead th {\n",
       "        text-align: right;\n",
       "    }\n",
       "</style>\n",
       "<table border=\"1\" class=\"dataframe\">\n",
       "  <thead>\n",
       "    <tr style=\"text-align: right;\">\n",
       "      <th></th>\n",
       "      <th>count</th>\n",
       "      <th>proportion</th>\n",
       "    </tr>\n",
       "  </thead>\n",
       "  <tbody>\n",
       "    <tr>\n",
       "      <th>1</th>\n",
       "      <td>166656</td>\n",
       "      <td>0.166656</td>\n",
       "    </tr>\n",
       "    <tr>\n",
       "      <th>2</th>\n",
       "      <td>166474</td>\n",
       "      <td>0.166474</td>\n",
       "    </tr>\n",
       "    <tr>\n",
       "      <th>3</th>\n",
       "      <td>167254</td>\n",
       "      <td>0.167254</td>\n",
       "    </tr>\n",
       "    <tr>\n",
       "      <th>4</th>\n",
       "      <td>166712</td>\n",
       "      <td>0.166712</td>\n",
       "    </tr>\n",
       "    <tr>\n",
       "      <th>5</th>\n",
       "      <td>166439</td>\n",
       "      <td>0.166439</td>\n",
       "    </tr>\n",
       "    <tr>\n",
       "      <th>6</th>\n",
       "      <td>166465</td>\n",
       "      <td>0.166465</td>\n",
       "    </tr>\n",
       "  </tbody>\n",
       "</table>\n",
       "</div>"
      ],
      "text/plain": [
       "    count  proportion\n",
       "1  166656    0.166656\n",
       "2  166474    0.166474\n",
       "3  167254    0.167254\n",
       "4  166712    0.166712\n",
       "5  166439    0.166439\n",
       "6  166465    0.166465"
      ]
     },
     "metadata": {},
     "output_type": "display_data"
    }
   ],
   "source": [
    "\n",
    "die_roll_counts_se = die_roll_df[\"value\"].value_counts(sort=False, normalize=False).sort_index()\n",
    "die_roll_counts_se.name=\"count\"\n",
    "die_roll_props_se = die_roll_df[\"value\"].value_counts(sort=False, normalize=True).sort_index()\n",
    "die_roll_props_se.name=\"proportion\"\n",
    "die_roll_stats_df = pd.concat([die_roll_counts_se, die_roll_props_se], axis=\"columns\")\n",
    "display(die_roll_stats_df)"
   ]
  },
  {
   "attachments": {},
   "cell_type": "markdown",
   "metadata": {},
   "source": [
    "Each roll should be just about equally common, but we can turn the table into something that is easier to inspect visually. The code blow will produce a bar chart.\n"
   ]
  },
  {
   "cell_type": "code",
   "execution_count": 152,
   "metadata": {},
   "outputs": [
    {
     "data": {
      "image/png": "[encoded data removed]",
      "text/plain": [
       "<Figure size 640x480 with 1 Axes>"
      ]
     },
     "metadata": {},
     "output_type": "display_data"
    }
   ],
   "source": [
    "\n",
    "fig, ax = plt.subplots()\n",
    "ax.bar(die_roll_stats_df.index.astype(str), die_roll_stats_df.loc[:, \"count\"])\n",
    "ax.set_xlabel(\"Roll\")\n",
    "ax.set_ylabel(\"Count\")\n",
    "ax.set_title(f\"Rolls for {roll_count:n} D{die_size:n}\")\n",
    "plt.show()"
   ]
  },
  {
   "attachments": {},
   "cell_type": "markdown",
   "metadata": {},
   "source": [
    "Now that we are hopefully convinced that each side of the virtual die was just about equally likely, we can finally calculate the expected value (EV) of rolling it.\n"
   ]
  },
  {
   "cell_type": "code",
   "execution_count": 153,
   "metadata": {},
   "outputs": [
    {
     "data": {
      "text/plain": [
       "'The average of 1000000 rolls of a d6 is 3.4992'"
      ]
     },
     "metadata": {},
     "output_type": "display_data"
    }
   ],
   "source": [
    "die_roll_mean = die_roll_df['value'].mean()\n",
    "display(f\"The average of {roll_count:n} rolls of a d{die_size:n} is {die_roll_mean:g}\")"
   ]
  },
  {
   "attachments": {},
   "cell_type": "markdown",
   "metadata": {},
   "source": [
    "But a fair die isn't a very difficult test. Does the expected value also show itself for more complicated distributions? What about an unfair die?"
   ]
  },
  {
   "attachments": {},
   "cell_type": "markdown",
   "metadata": {},
   "source": [
    "### A non-standard 6 sided die\n"
   ]
  },
  {
   "attachments": {},
   "cell_type": "markdown",
   "metadata": {},
   "source": [
    "A standard die is a pretty easy case. Each value is equally likely so it's not even really necessary to do the math the long way. Does this apporach work even for non-standard dice? Let's try it.\n",
    "\n",
    "Imagine I took at six sided die and re-labeled the faces. I'll put a 1 on the first three faces, a 2 on the faces that originally said 4 and 5, and a 3 on the face that said 6. How do I calculate the expected value of this new, weighted die, and do observations agree with calculations?\n"
   ]
  },
  {
   "attachments": {},
   "cell_type": "markdown",
   "metadata": {},
   "source": [
    "#### Calculating expected value\n"
   ]
  },
  {
   "attachments": {},
   "cell_type": "markdown",
   "metadata": {},
   "source": [
    "$$\n",
    "\\frac{3}{6} \\times 1 + \\frac{2}{6} \\times 2 + \\frac{1}{6} \\times 3\n",
    "$$\n",
    "\n",
    "$$\n",
    "\\frac{3}{6} + \\frac{4}{6} + \\frac{3}{6}\n",
    "$$\n",
    "\n",
    "$$\n",
    "\\frac{{10}}{6}\n",
    "$$\n",
    "\n",
    "$$\n",
    "\\frac{5}{3}\n",
    "$$\n",
    "\n",
    "$$\n",
    "1.\\overline 6\n",
    "$$\n"
   ]
  },
  {
   "attachments": {},
   "cell_type": "markdown",
   "metadata": {},
   "source": [
    "#### Verifying expected value\n"
   ]
  },
  {
   "attachments": {},
   "cell_type": "markdown",
   "metadata": {},
   "source": [
    "Below, I create an array showing the faces of our weighted die.\n"
   ]
  },
  {
   "cell_type": "code",
   "execution_count": 154,
   "metadata": {},
   "outputs": [],
   "source": [
    "die_faces = np.array([1,1,1,2,2,3])"
   ]
  },
  {
   "attachments": {},
   "cell_type": "markdown",
   "metadata": {},
   "source": [
    "Since I want to roll using our weighted die, I need to use a different function to make the random number generator pick from my array of faces, but this code is otherwise very similar to what I used in the previous example.\n"
   ]
  },
  {
   "cell_type": "code",
   "execution_count": 155,
   "metadata": {},
   "outputs": [
    {
     "data": {
      "text/html": [
       "<div>\n",
       "<style scoped>\n",
       "    .dataframe tbody tr th:only-of-type {\n",
       "        vertical-align: middle;\n",
       "    }\n",
       "\n",
       "    .dataframe tbody tr th {\n",
       "        vertical-align: top;\n",
       "    }\n",
       "\n",
       "    .dataframe thead th {\n",
       "        text-align: right;\n",
       "    }\n",
       "</style>\n",
       "<table border=\"1\" class=\"dataframe\">\n",
       "  <thead>\n",
       "    <tr style=\"text-align: right;\">\n",
       "      <th>roll numer</th>\n",
       "      <th>result</th>\n",
       "    </tr>\n",
       "  </thead>\n",
       "  <tbody>\n",
       "    <tr>\n",
       "      <th>1</th>\n",
       "      <td>1</td>\n",
       "    </tr>\n",
       "    <tr>\n",
       "      <th>2</th>\n",
       "      <td>1</td>\n",
       "    </tr>\n",
       "    <tr>\n",
       "      <th>3</th>\n",
       "      <td>2</td>\n",
       "    </tr>\n",
       "    <tr>\n",
       "      <th>4</th>\n",
       "      <td>2</td>\n",
       "    </tr>\n",
       "    <tr>\n",
       "      <th>5</th>\n",
       "      <td>2</td>\n",
       "    </tr>\n",
       "    <tr>\n",
       "      <th>...</th>\n",
       "      <td>...</td>\n",
       "    </tr>\n",
       "    <tr>\n",
       "      <th>999996</th>\n",
       "      <td>3</td>\n",
       "    </tr>\n",
       "    <tr>\n",
       "      <th>999997</th>\n",
       "      <td>2</td>\n",
       "    </tr>\n",
       "    <tr>\n",
       "      <th>999998</th>\n",
       "      <td>2</td>\n",
       "    </tr>\n",
       "    <tr>\n",
       "      <th>999999</th>\n",
       "      <td>1</td>\n",
       "    </tr>\n",
       "    <tr>\n",
       "      <th>1000000</th>\n",
       "      <td>2</td>\n",
       "    </tr>\n",
       "  </tbody>\n",
       "</table>\n",
       "<p>1000000 rows × 1 columns</p>\n",
       "</div>"
      ],
      "text/plain": [
       "roll numer  result\n",
       "1                1\n",
       "2                1\n",
       "3                2\n",
       "4                2\n",
       "5                2\n",
       "...            ...\n",
       "999996           3\n",
       "999997           2\n",
       "999998           2\n",
       "999999           1\n",
       "1000000          2\n",
       "\n",
       "[1000000 rows x 1 columns]"
      ]
     },
     "execution_count": 155,
     "metadata": {},
     "output_type": "execute_result"
    }
   ],
   "source": [
    "weighted_rolls_df =pd.DataFrame(rng.choice(die_faces, size=roll_count), index=np.arange(1, roll_count+1), columns=[\"result\"])\n",
    "weighted_rolls_df.columns.name=\"roll numer\"\n",
    "weighted_rolls_df"
   ]
  },
  {
   "attachments": {},
   "cell_type": "markdown",
   "metadata": {},
   "source": [
    "The cell below produces a summary table like the one in the previous example. Based on what I worked out by hand above, I should expect to see rolls of 1 about half the time, rolls of 2 about 1/3 of the time and rolls of 3 about 1/6 of the time.\n"
   ]
  },
  {
   "cell_type": "code",
   "execution_count": 156,
   "metadata": {},
   "outputs": [
    {
     "data": {
      "text/html": [
       "<div>\n",
       "<style scoped>\n",
       "    .dataframe tbody tr th:only-of-type {\n",
       "        vertical-align: middle;\n",
       "    }\n",
       "\n",
       "    .dataframe tbody tr th {\n",
       "        vertical-align: top;\n",
       "    }\n",
       "\n",
       "    .dataframe thead th {\n",
       "        text-align: right;\n",
       "    }\n",
       "</style>\n",
       "<table border=\"1\" class=\"dataframe\">\n",
       "  <thead>\n",
       "    <tr style=\"text-align: right;\">\n",
       "      <th></th>\n",
       "      <th>count</th>\n",
       "      <th>proportion</th>\n",
       "    </tr>\n",
       "  </thead>\n",
       "  <tbody>\n",
       "    <tr>\n",
       "      <th>1</th>\n",
       "      <td>500538</td>\n",
       "      <td>0.500538</td>\n",
       "    </tr>\n",
       "    <tr>\n",
       "      <th>2</th>\n",
       "      <td>332949</td>\n",
       "      <td>0.332949</td>\n",
       "    </tr>\n",
       "    <tr>\n",
       "      <th>3</th>\n",
       "      <td>166513</td>\n",
       "      <td>0.166513</td>\n",
       "    </tr>\n",
       "  </tbody>\n",
       "</table>\n",
       "</div>"
      ],
      "text/plain": [
       "    count  proportion\n",
       "1  500538    0.500538\n",
       "2  332949    0.332949\n",
       "3  166513    0.166513"
      ]
     },
     "metadata": {},
     "output_type": "display_data"
    }
   ],
   "source": [
    "weighted_roll_counts_df = weighted_rolls_df[\"result\"].value_counts(sort=False).sort_index()\n",
    "weighted_roll_counts_df.name=\"count\"\n",
    "weighted_roll_proportions_se = weighted_rolls_df[\"result\"].value_counts(sort=\"false\", normalize=True)\n",
    "weighted_roll_proportions_se.name=\"proportion\"\n",
    "weighted_roll_stats_df = pd.concat([weighted_roll_counts_df, weighted_roll_proportions_se], axis=\"columns\")\n",
    "display(weighted_roll_stats_df)"
   ]
  },
  {
   "attachments": {},
   "cell_type": "markdown",
   "metadata": {},
   "source": [
    "The cell below turns the table above into a graph.\n"
   ]
  },
  {
   "cell_type": "code",
   "execution_count": 157,
   "metadata": {},
   "outputs": [
    {
     "data": {
      "image/png": "[encoded data removed]",
      "text/plain": [
       "<Figure size 640x480 with 1 Axes>"
      ]
     },
     "metadata": {},
     "output_type": "display_data"
    }
   ],
   "source": [
    "fig, ax = plt.subplots()\n",
    "ax.bar(weighted_roll_counts_df.index.astype(str), weighted_roll_counts_df.array)\n",
    "ax.set_xlabel(\"Roll\")\n",
    "ax.set_ylabel(\"Count\")\n",
    "ax.set_title(f\"{roll_count:n} choices from {die_faces.tolist()}\")\n",
    "plt.show()"
   ]
  },
  {
   "attachments": {},
   "cell_type": "markdown",
   "metadata": {},
   "source": [
    "Now that the summary statistics have helped us convince ourselves that the computer is really rolling our weighted die, we can once again calculate the expected value.\n"
   ]
  },
  {
   "cell_type": "code",
   "execution_count": 158,
   "metadata": {},
   "outputs": [
    {
     "data": {
      "text/plain": [
       "'The average of 1000000 choices from [1, 1, 1, 2, 2, 3] is 1.66597'"
      ]
     },
     "metadata": {},
     "output_type": "display_data"
    }
   ],
   "source": [
    "weighted_roll_mean = weighted_rolls_df['result'].mean()\n",
    "display(f\"The average of {roll_count:n} choices from {die_faces.tolist()} is {weighted_roll_mean:g}\")"
   ]
  },
  {
   "attachments": {},
   "cell_type": "markdown",
   "metadata": {},
   "source": [
    "## What does this have to do with finance?\n"
   ]
  },
  {
   "attachments": {},
   "cell_type": "markdown",
   "metadata": {},
   "source": [
    "Investments are uncertain. Sometimes you make money and sometimes you lose it. An investor might like to know how likely each outcome is and how much money they can expect to make - or lose - on average. The long-term average is basically the definition of the expected value.\n",
    "\n",
    "Investments share their win-some, lose-some random outcome fundamentals with gambling games. Some people would even tell you that the difference between investing and gambling is that when you gamble, you know the expected value is negative. That is, when you gamble you are accepting that you'll lose money on average. So, let's demonstrate applying expected value to a simple dice game.\n"
   ]
  },
  {
   "attachments": {},
   "cell_type": "markdown",
   "metadata": {},
   "source": [
    "## A fair dice game\n"
   ]
  },
  {
   "attachments": {},
   "cell_type": "markdown",
   "metadata": {},
   "source": [
    "My robot friend and I are going to play a simple game. They roll a standard six-sided die and they win a number of dollars equal to the value that they roll. How much should they be willing to pay to play this game with me? Given the price, how much money should they expect to make or lose per round on average?\n",
    "\n",
    "We already calculated the expected value of a standard six-sided die above. We know it's 3.5. So the least they could win is $1, the most is $6 and the average will be $3.50. What happens if I set the price at exactly $3.50?\n"
   ]
  },
  {
   "cell_type": "code",
   "execution_count": 159,
   "metadata": {},
   "outputs": [],
   "source": [
    "die_size = 6\n",
    "roll_count = 100_000\n",
    "game_price = 3.5"
   ]
  },
  {
   "cell_type": "code",
   "execution_count": 160,
   "metadata": {},
   "outputs": [
    {
     "data": {
      "text/html": [
       "<div>\n",
       "<style scoped>\n",
       "    .dataframe tbody tr th:only-of-type {\n",
       "        vertical-align: middle;\n",
       "    }\n",
       "\n",
       "    .dataframe tbody tr th {\n",
       "        vertical-align: top;\n",
       "    }\n",
       "\n",
       "    .dataframe thead th {\n",
       "        text-align: right;\n",
       "    }\n",
       "</style>\n",
       "<table border=\"1\" class=\"dataframe\">\n",
       "  <thead>\n",
       "    <tr style=\"text-align: right;\">\n",
       "      <th>round</th>\n",
       "      <th>roll</th>\n",
       "      <th>winnings</th>\n",
       "    </tr>\n",
       "  </thead>\n",
       "  <tbody>\n",
       "    <tr>\n",
       "      <th>1</th>\n",
       "      <td>3</td>\n",
       "      <td>-0.5</td>\n",
       "    </tr>\n",
       "    <tr>\n",
       "      <th>2</th>\n",
       "      <td>4</td>\n",
       "      <td>0.5</td>\n",
       "    </tr>\n",
       "    <tr>\n",
       "      <th>3</th>\n",
       "      <td>3</td>\n",
       "      <td>-0.5</td>\n",
       "    </tr>\n",
       "    <tr>\n",
       "      <th>4</th>\n",
       "      <td>3</td>\n",
       "      <td>-0.5</td>\n",
       "    </tr>\n",
       "    <tr>\n",
       "      <th>5</th>\n",
       "      <td>4</td>\n",
       "      <td>0.5</td>\n",
       "    </tr>\n",
       "    <tr>\n",
       "      <th>...</th>\n",
       "      <td>...</td>\n",
       "      <td>...</td>\n",
       "    </tr>\n",
       "    <tr>\n",
       "      <th>99996</th>\n",
       "      <td>2</td>\n",
       "      <td>-1.5</td>\n",
       "    </tr>\n",
       "    <tr>\n",
       "      <th>99997</th>\n",
       "      <td>2</td>\n",
       "      <td>-1.5</td>\n",
       "    </tr>\n",
       "    <tr>\n",
       "      <th>99998</th>\n",
       "      <td>5</td>\n",
       "      <td>1.5</td>\n",
       "    </tr>\n",
       "    <tr>\n",
       "      <th>99999</th>\n",
       "      <td>1</td>\n",
       "      <td>-2.5</td>\n",
       "    </tr>\n",
       "    <tr>\n",
       "      <th>100000</th>\n",
       "      <td>3</td>\n",
       "      <td>-0.5</td>\n",
       "    </tr>\n",
       "  </tbody>\n",
       "</table>\n",
       "<p>100000 rows × 2 columns</p>\n",
       "</div>"
      ],
      "text/plain": [
       "round   roll  winnings\n",
       "1          3      -0.5\n",
       "2          4       0.5\n",
       "3          3      -0.5\n",
       "4          3      -0.5\n",
       "5          4       0.5\n",
       "...      ...       ...\n",
       "99996      2      -1.5\n",
       "99997      2      -1.5\n",
       "99998      5       1.5\n",
       "99999      1      -2.5\n",
       "100000     3      -0.5\n",
       "\n",
       "[100000 rows x 2 columns]"
      ]
     },
     "metadata": {},
     "output_type": "display_data"
    },
    {
     "data": {
      "text/plain": [
       "'The average value for each roll is -0.0024'"
      ]
     },
     "execution_count": 160,
     "metadata": {},
     "output_type": "execute_result"
    }
   ],
   "source": [
    "die_roll_df = pd.DataFrame(rng.integers(1, die_size, size=roll_count, endpoint=True), index=np.arange(1, roll_count+1), columns=[\"roll\"])\n",
    "die_roll_df = die_roll_df.rename_axis(\"round\", axis=\"columns\")\n",
    "die_roll_df[\"winnings\"] = die_roll_df[\"roll\"] - game_price\n",
    "display(die_roll_df)\n",
    "f\"The average value for each roll is {die_roll_df['winnings'].mean()}\""
   ]
  },
  {
   "attachments": {},
   "cell_type": "markdown",
   "metadata": {},
   "source": [
    "The average winnings/losses for each roll varies, but it tends to be pretty close to zero."
   ]
  },
  {
   "attachments": {},
   "cell_type": "markdown",
   "metadata": {},
   "source": [
    "### Fallacy Warning!\n"
   ]
  },
  {
   "attachments": {},
   "cell_type": "markdown",
   "metadata": {},
   "source": [
    "Just because the average winnings/losses for a game is close to zero doesn't mean that a player's total winning and losses will stay near zero if they play over and over. Let's add some columns to the game data we generated above and see how unbalanced the outcomes of this very fair game can still be.\n"
   ]
  },
  {
   "cell_type": "code",
   "execution_count": 161,
   "metadata": {},
   "outputs": [
    {
     "data": {
      "text/html": [
       "<div>\n",
       "<style scoped>\n",
       "    .dataframe tbody tr th:only-of-type {\n",
       "        vertical-align: middle;\n",
       "    }\n",
       "\n",
       "    .dataframe tbody tr th {\n",
       "        vertical-align: top;\n",
       "    }\n",
       "\n",
       "    .dataframe thead th {\n",
       "        text-align: right;\n",
       "    }\n",
       "</style>\n",
       "<table border=\"1\" class=\"dataframe\">\n",
       "  <thead>\n",
       "    <tr style=\"text-align: right;\">\n",
       "      <th>round</th>\n",
       "      <th>roll</th>\n",
       "      <th>winnings</th>\n",
       "      <th>total</th>\n",
       "      <th>wost</th>\n",
       "      <th>best</th>\n",
       "    </tr>\n",
       "  </thead>\n",
       "  <tbody>\n",
       "    <tr>\n",
       "      <th>1</th>\n",
       "      <td>3</td>\n",
       "      <td>-0.5</td>\n",
       "      <td>-0.5</td>\n",
       "      <td>-0.5</td>\n",
       "      <td>-0.5</td>\n",
       "    </tr>\n",
       "    <tr>\n",
       "      <th>2</th>\n",
       "      <td>4</td>\n",
       "      <td>0.5</td>\n",
       "      <td>0.0</td>\n",
       "      <td>-0.5</td>\n",
       "      <td>0.0</td>\n",
       "    </tr>\n",
       "    <tr>\n",
       "      <th>3</th>\n",
       "      <td>3</td>\n",
       "      <td>-0.5</td>\n",
       "      <td>-0.5</td>\n",
       "      <td>-0.5</td>\n",
       "      <td>0.0</td>\n",
       "    </tr>\n",
       "    <tr>\n",
       "      <th>4</th>\n",
       "      <td>3</td>\n",
       "      <td>-0.5</td>\n",
       "      <td>-1.0</td>\n",
       "      <td>-1.0</td>\n",
       "      <td>0.0</td>\n",
       "    </tr>\n",
       "    <tr>\n",
       "      <th>5</th>\n",
       "      <td>4</td>\n",
       "      <td>0.5</td>\n",
       "      <td>-0.5</td>\n",
       "      <td>-1.0</td>\n",
       "      <td>0.0</td>\n",
       "    </tr>\n",
       "    <tr>\n",
       "      <th>...</th>\n",
       "      <td>...</td>\n",
       "      <td>...</td>\n",
       "      <td>...</td>\n",
       "      <td>...</td>\n",
       "      <td>...</td>\n",
       "    </tr>\n",
       "    <tr>\n",
       "      <th>99996</th>\n",
       "      <td>2</td>\n",
       "      <td>-1.5</td>\n",
       "      <td>-237.0</td>\n",
       "      <td>-348.0</td>\n",
       "      <td>243.5</td>\n",
       "    </tr>\n",
       "    <tr>\n",
       "      <th>99997</th>\n",
       "      <td>2</td>\n",
       "      <td>-1.5</td>\n",
       "      <td>-238.5</td>\n",
       "      <td>-348.0</td>\n",
       "      <td>243.5</td>\n",
       "    </tr>\n",
       "    <tr>\n",
       "      <th>99998</th>\n",
       "      <td>5</td>\n",
       "      <td>1.5</td>\n",
       "      <td>-237.0</td>\n",
       "      <td>-348.0</td>\n",
       "      <td>243.5</td>\n",
       "    </tr>\n",
       "    <tr>\n",
       "      <th>99999</th>\n",
       "      <td>1</td>\n",
       "      <td>-2.5</td>\n",
       "      <td>-239.5</td>\n",
       "      <td>-348.0</td>\n",
       "      <td>243.5</td>\n",
       "    </tr>\n",
       "    <tr>\n",
       "      <th>100000</th>\n",
       "      <td>3</td>\n",
       "      <td>-0.5</td>\n",
       "      <td>-240.0</td>\n",
       "      <td>-348.0</td>\n",
       "      <td>243.5</td>\n",
       "    </tr>\n",
       "  </tbody>\n",
       "</table>\n",
       "<p>100000 rows × 5 columns</p>\n",
       "</div>"
      ],
      "text/plain": [
       "round   roll  winnings  total   wost   best\n",
       "1          3      -0.5   -0.5   -0.5   -0.5\n",
       "2          4       0.5    0.0   -0.5    0.0\n",
       "3          3      -0.5   -0.5   -0.5    0.0\n",
       "4          3      -0.5   -1.0   -1.0    0.0\n",
       "5          4       0.5   -0.5   -1.0    0.0\n",
       "...      ...       ...    ...    ...    ...\n",
       "99996      2      -1.5 -237.0 -348.0  243.5\n",
       "99997      2      -1.5 -238.5 -348.0  243.5\n",
       "99998      5       1.5 -237.0 -348.0  243.5\n",
       "99999      1      -2.5 -239.5 -348.0  243.5\n",
       "100000     3      -0.5 -240.0 -348.0  243.5\n",
       "\n",
       "[100000 rows x 5 columns]"
      ]
     },
     "metadata": {},
     "output_type": "display_data"
    },
    {
     "data": {
      "text/plain": [
       "<AxesSubplot: >"
      ]
     },
     "metadata": {},
     "output_type": "display_data"
    },
    {
     "data": {
      "image/png": "[encoded data removed]",
      "text/plain": [
       "<Figure size 640x480 with 1 Axes>"
      ]
     },
     "metadata": {},
     "output_type": "display_data"
    }
   ],
   "source": [
    "die_roll_df[\"total\"] = die_roll_df[\"winnings\"].cumsum()\n",
    "die_roll_df[\"wost\"] = die_roll_df[\"total\"].cummin()\n",
    "die_roll_df[\"best\"] = die_roll_df[\"total\"].cummax()\n",
    "display(die_roll_df)\n",
    "display(die_roll_df.loc[:, [\"total\"]].plot(grid=True))\n"
   ]
  },
  {
   "attachments": {},
   "cell_type": "markdown",
   "metadata": {},
   "source": [
    "## Gambling\n"
   ]
  },
  {
   "attachments": {},
   "cell_type": "markdown",
   "metadata": {},
   "source": [
    "If the dice game we described above was being offered by a casino then they'd never charge just $3.50 to play. As the graph above shows, they could still lose large amounts of money just by offering even odds, and casinos aren't here to lose money. How does the game change as we vary the price? \n"
   ]
  },
  {
   "attachments": {},
   "cell_type": "markdown",
   "metadata": {},
   "source": [
    "Since I want to try a variety of prices, I'm going to make a function so I don't have to repeat the code for each price."
   ]
  },
  {
   "cell_type": "code",
   "execution_count": 162,
   "metadata": {},
   "outputs": [],
   "source": [
    "def play_game(game_price, roll_count = 100_000, die_size=6):\n",
    "    die_roll_df = pd.DataFrame(rng.integers(1, die_size, size=roll_count, endpoint=True), index=np.arange(1, roll_count+1), columns=[\"roll\"])\n",
    "    die_roll_df = die_roll_df.rename_axis(\"round\", axis=\"columns\")\n",
    "    die_roll_df[\"winnings\"] = die_roll_df[\"roll\"] - game_price\n",
    "    die_roll_df[\"total\"] = die_roll_df[\"winnings\"].cumsum()\n",
    "    die_roll_df[\"wost\"] = die_roll_df[\"total\"].cummin()\n",
    "    die_roll_df[\"best\"] = die_roll_df[\"total\"].cummax()\n",
    "    return die_roll_df\n"
   ]
  },
  {
   "attachments": {},
   "cell_type": "markdown",
   "metadata": {},
   "source": [
    "Next I'll make a chart showing the game at various prices.  I'm only going to increase the price by one penny ($0.01) each time.  Let's see what happens."
   ]
  },
  {
   "cell_type": "code",
   "execution_count": 163,
   "metadata": {},
   "outputs": [
    {
     "data": {
      "image/png": "[encoded data removed]",
      "text/plain": [
       "<Figure size 640x480 with 9 Axes>"
      ]
     },
     "metadata": {},
     "output_type": "display_data"
    }
   ],
   "source": [
    "fig, axs = plt.subplots(3, 3, sharex=True, sharey=True)\n",
    "fair_price = 3.50\n",
    "for pos, ax in enumerate(axs.flat):\n",
    "    version_price = fair_price + 0.01 + (0.01 * pos)\n",
    "    game_results = play_game(version_price)\n",
    "    ax.plot(game_results[\"total\"])\n",
    "    ax.set_title(f\"${version_price:.2f}\")\n"
   ]
  }
 ],
 "metadata": {
  "kernelspec": {
   "display_name": "venv",
   "language": "python",
   "name": "python3"
  },
  "language_info": {
   "codemirror_mode": {
    "name": "ipython",
    "version": 3
   },
   "file_extension": ".py",
   "mimetype": "text/x-python",
   "name": "python",
   "nbconvert_exporter": "python",
   "pygments_lexer": "ipython3",
   "version": "3.11.0"
  },
  "orig_nbformat": 4,
  "vscode": {
   "interpreter": {
    "hash": "312f457a76b571ef0a7a8ee4e5ed4b097adce366c668a6149ff17fb14fbc82f3"
   }
  }
 },
 "nbformat": 4,
 "nbformat_minor": 2
}
